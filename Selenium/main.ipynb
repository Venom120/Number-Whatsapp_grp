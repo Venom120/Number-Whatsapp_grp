{
 "cells": [
  {
   "cell_type": "markdown",
   "metadata": {},
   "source": [
    "### This code uses whatsapp web to add number"
   ]
  },
  {
   "cell_type": "markdown",
   "metadata": {},
   "source": [
    "### Importing relevant Modules"
   ]
  },
  {
   "cell_type": "code",
   "execution_count": null,
   "metadata": {},
   "outputs": [],
   "source": [
    "from pydrive.auth import GoogleAuth\n",
    "from pydrive.drive import GoogleDrive\n",
    "\n",
    "from selenium import webdriver\n",
    "from selenium.webdriver.common.by import By\n",
    "from selenium.webdriver.common.keys import Keys\n",
    "from selenium.webdriver.edge.options import Options\n",
    "from selenium.webdriver.edge.service import Service\n",
    "from selenium.webdriver.support.ui import WebDriverWait\n",
    "from selenium.webdriver.support import expected_conditions as EC\n",
    "from webdriver_manager.microsoft import EdgeChromiumDriverManager\n",
    "\n",
    "import time, os, csv\n",
    "import pandas as pd"
   ]
  },
  {
   "cell_type": "markdown",
   "metadata": {},
   "source": [
    "### Global Variables"
   ]
  },
  {
   "cell_type": "code",
   "execution_count": null,
   "metadata": {},
   "outputs": [],
   "source": [
    "\"\"\"!!!!!!!!!!!!!!!! Change these acccording to your system !!!!!!!!!!!!!!!!\"\"\"\n",
    "timeout = 10\n",
    "your_username = \"<YOUR_USERNAME>\"  # Replace with your actual username of the system\n",
    "\n",
    "if os.name == 'nt': # Windows\n",
    "    user_data_dir = f\"C:/Users/{your_username}/AppData/Local/Microsoft/Edge/User Data/Default\" # Replace with your actual profile path\n",
    "elif os.name == 'posix': # Linux\n",
    "    user_data_dir = f\"/home/{your_username}/.config/microsoft-edge/Default\"  # Replace with your actual profile path\n",
    "else:\n",
    "    raise Exception(\"Unsupported OS. Please update the user_data_dir path accordingly.\") \n",
    "\n",
    "# Specify Edge exec/binary location\n",
    "if os.name == 'nt': # Windows\n",
    "    exec_path= r\"C:\\Program Files (x86)\\Microsoft\\Edge\\Application\\msedge.exe\" # Replace with your actual profile path\n",
    "else: # Linux\n",
    "    exec_path = \"/usr/bin/microsoft-edge-stable\" # Replace with your actual profile path\n"
   ]
  },
  {
   "cell_type": "markdown",
   "metadata": {},
   "source": [
    "### Opening whatsapp using options"
   ]
  },
  {
   "cell_type": "code",
   "execution_count": null,
   "metadata": {},
   "outputs": [],
   "source": [
    "def setup_driver():\n",
    "        \"\"\"Set up and configure the WebDriver\"\"\"\n",
    "        edge_options = Options()\n",
    "        \n",
    "        # Add common options to avoid detection\n",
    "        edge_options.add_argument(\"--disable-dev-shm-usage\")\n",
    "        edge_options.add_argument(\"--disable-blink-features=AutomationControlled\")\n",
    "        edge_options.add_argument(\"--disable-extensions\")\n",
    "        edge_options.add_experimental_option(\"excludeSwitches\", [\"enable-automation\"])\n",
    "        edge_options.add_experimental_option(\"useAutomationExtension\", False)\n",
    "        edge_options.add_experimental_option(\"detach\", True)\n",
    "        \n",
    "        # Set user agent\n",
    "        edge_options.add_argument(\"user-agent=Mozilla/5.0 (Windows NT 10.0; Win64; x64) AppleWebKit/537.36 (KHTML, like Gecko) edge/119.0.0.0 Safari/537.36\")\n",
    "        \n",
    "        # Use user data directory for session persistence\n",
    "        edge_options.add_argument(f\"--user-data-dir={user_data_dir}\")\n",
    "\n",
    "        # Use user Edge exec/binary location\n",
    "        edge_options.binary_location = exec_path\n",
    "        \n",
    "        # Initialize the driver\n",
    "        service = Service(EdgeChromiumDriverManager().install())\n",
    "        driver = webdriver.Edge(service=service, options=edge_options)\n",
    "        # driver.set_window_size(1280, 800)\n",
    "        \n",
    "        # Set page load timeout\n",
    "        driver.set_page_load_timeout(timeout)\n",
    "        \n",
    "        # Disable webdriver detection\n",
    "        driver.execute_script(\"Object.defineProperty(navigator, 'webdriver', {get: () => undefined})\")\n",
    "\n",
    "        return driver"
   ]
  },
  {
   "cell_type": "code",
   "execution_count": null,
   "metadata": {},
   "outputs": [],
   "source": [
    "# if already logged in to whatsapp then no need to login again this way\n",
    "driver = setup_driver()\n",
    "\n",
    "# opening whatsapp web\n",
    "driver.get('https://web.whatsapp.com/')\n",
    "check_list=None\n",
    "# waiting for the page to load\n",
    "while True:\n",
    "    try:\n",
    "        chat_list = driver.find_element(By.ID, 'pane-side')\n",
    "        break\n",
    "    except Exception as e:\n",
    "        time.sleep(2)"
   ]
  },
  {
   "cell_type": "markdown",
   "metadata": {},
   "source": [
    "### Finding Group name"
   ]
  },
  {
   "cell_type": "code",
   "execution_count": null,
   "metadata": {},
   "outputs": [],
   "source": [
    "\"\"\"!!!!!!!!!!!!!!!! Change this Name to your WP group name !!!!!!!!!!!!!!!!\"\"\"\n",
    "gname = \"<GROUP_NAME>\"  # Replace with your actual group name\n",
    "while True:\n",
    "    try:\n",
    "        search_box = driver.find_element(By.XPATH, '//*[@id=\"side\"]/div[1]/div/div[2]/div/div/div[1]/p')\n",
    "        search_box.click()  # Click to activate the search box\n",
    "        search_box.send_keys(gname)  # Type the group name\n",
    "        search_box.send_keys(Keys.ENTER)  # Press Enter to search\n",
    "        time.sleep(3)\n",
    "        # Check if the group is opened by looking for the chat header\n",
    "        chat_header = driver.find_element(By.XPATH, f'//*[@id=\"main\"]/header/div[2]/div[1]/div/span')\n",
    "        break\n",
    "\n",
    "    except Exception as e:\n",
    "        print(\"Group not found, enter exact group name!! - \")\n",
    "        gname=input()\n",
    "        cross=driver.find_element(By.XPATH, '//*[@id=\"side\"]/div[1]/div/div[2]/span/button/span')\n",
    "        cross.click()\n",
    "        time.sleep(1)\n",
    "\n",
    "print(\"Group name validation done!\")\n"
   ]
  },
  {
   "cell_type": "markdown",
   "metadata": {},
   "source": [
    "### Opening Add participant screen"
   ]
  },
  {
   "cell_type": "code",
   "execution_count": null,
   "metadata": {},
   "outputs": [],
   "source": [
    "group_details = driver.find_element(By.XPATH, '//*[@id=\"main\"]/header/div[2]/div[1]/div/span')\n",
    "group_details.click()\n",
    "time.sleep(1)\n",
    "add_screen = driver.find_element(By.XPATH, '//*[@id=\"app\"]/div/div[3]/div/div[5]/span/div/span/div/div/div/section/div[11]/div[2]/div[1]/div/div[2]/div/div/div')\n",
    "add_screen.click()"
   ]
  },
  {
   "cell_type": "markdown",
   "metadata": {},
   "source": [
    "### Bringing data from google spreadsheets"
   ]
  },
  {
   "cell_type": "code",
   "execution_count": null,
   "metadata": {},
   "outputs": [],
   "source": [
    "# Remember to put your clients_secrets.json in 'pwd'\n",
    "# Authenticate with your Google account\n",
    "gauth = GoogleAuth()\n",
    "gauth.LocalWebserverAuth()  # Follow the authentication steps in your web browser\n",
    "\n",
    "# Create a GoogleDrive instance\n",
    "drive = GoogleDrive(gauth)"
   ]
  },
  {
   "cell_type": "code",
   "execution_count": null,
   "metadata": {},
   "outputs": [],
   "source": [
    "\"\"\"!!!!!!!!!!!!!!!! Change file name to your file name in Gdrive !!!!!!!!!!!!!!!!\"\"\"\n",
    "# Search for the file by name\n",
    "file_name = \"<GDRIVE_FILE_NAME>\"\n",
    "file_list = drive.ListFile({'q': f\"title = '{file_name}'\"}).GetList()\n",
    "\n",
    "if len(file_list) == 0:\n",
    "    print(f\"File '{file_name}' not found in Google Drive.\")\n",
    "else:\n",
    "    csv_file = file_list[0]\n",
    "\n",
    "    # Download the CSV file\n",
    "    csv_file.GetContentFile(\"../Data/responses.csv\", mimetype=\"text/csv\")\n",
    "    print(f\"File '{file_name}' downloaded successfully.\")"
   ]
  },
  {
   "cell_type": "markdown",
   "metadata": {},
   "source": [
    "### Finding data"
   ]
  },
  {
   "cell_type": "code",
   "execution_count": null,
   "metadata": {},
   "outputs": [],
   "source": [
    "df = pd.read_csv(\"../Data/responses.csv\")\n",
    "df.head(2)"
   ]
  },
  {
   "cell_type": "code",
   "execution_count": null,
   "metadata": {},
   "outputs": [],
   "source": [
    "# Check if file exists\n",
    "filename = '../Data/added.csv'\n",
    "headers = ['Name', 'Phone No.']\n",
    "\n",
    "file_exists = os.path.isfile(filename)\n",
    "if not file_exists:\n",
    "    # Create file with headers\n",
    "    with open(filename, 'w', newline='') as f:\n",
    "        writer = csv.writer(f)\n",
    "        writer.writerow(headers)\n",
    "else:\n",
    "    # Check if headers exist\n",
    "    with open(filename, 'r', newline='') as f:\n",
    "        reader = csv.reader(f)\n",
    "        first_row = next(reader, None)\n",
    "        if first_row != headers:\n",
    "            # Read existing data\n",
    "            data = list(reader)\n",
    "            # Rewrite file with headers\n",
    "            with open(filename, 'w', newline='') as fw:\n",
    "                writer = csv.writer(fw)\n",
    "                writer.writerow(headers)\n",
    "                writer.writerows(data)\n",
    "\n",
    "# Correcting data\n",
    "ph_list = df['Phone No.'].to_list()\n",
    "added_list = pd.read_csv(\"../Data/added.csv\")['Phone No.'].to_list()\n",
    "\n",
    "to_add = []\n",
    "for i in ph_list:\n",
    "    if i not in added_list:\n",
    "        to_add.append(int(i))\n",
    "        \n",
    "to_add=list(set(to_add))  # Remove duplicates\n",
    "print(f\"Total {len(to_add)} members to be added to the group.\")\n",
    "if len(to_add) == 0:\n",
    "    print(\"No new members to add.\")\n",
    "\n",
    "to_add"
   ]
  },
  {
   "cell_type": "markdown",
   "metadata": {},
   "source": [
    "### Functions"
   ]
  },
  {
   "cell_type": "code",
   "execution_count": null,
   "metadata": {},
   "outputs": [],
   "source": [
    "def click_cross():\n",
    "    try:\n",
    "        cross = WebDriverWait(driver, 2).until(\n",
    "            EC.element_to_be_clickable((By.XPATH, '//*[@id=\"app\"]/div/span[2]/div/span/div/div/div/div/div/div/div[1]/div/div[2]/span/button/span'))\n",
    "        )\n",
    "        cross.click()\n",
    "    except Exception as e:\n",
    "        print(f\"[!] Failed to click cross: {e}\")\n",
    "\n",
    "def add_participants(numbers):\n",
    "    for num in numbers:\n",
    "        try:\n",
    "            # Wait for the search box to be clickable\n",
    "            search_box = WebDriverWait(driver, 2).until(\n",
    "                EC.element_to_be_clickable((By.XPATH, '//*[@id=\"app\"]/div/span[2]/div/span/div/div/div/div/div/div/div[1]/div/div[2]/div/div/div[1]/p'))\n",
    "            )\n",
    "            search_box.click()\n",
    "            search_box.clear()\n",
    "            search_box.send_keys(str(num))\n",
    "\n",
    "            # Wait for the contact result section to load\n",
    "            WebDriverWait(driver, 2).until(\n",
    "                EC.presence_of_element_located((By.XPATH, '/html/body/div[1]/div/div/span[2]/div/span/div/div/div/div/div/div/div[2]/div/div/div[1]'))\n",
    "            )\n",
    "\n",
    "            try:\n",
    "                # First option: contact found\n",
    "                contact = WebDriverWait(driver, 2).until(\n",
    "                    EC.element_to_be_clickable((By.XPATH, '//*[@id=\"app\"]/div/span[2]/div/span/div/div/div/div/div/div/div[2]/div/div/div/div[1]/div/div[2]'))\n",
    "                )\n",
    "            except:\n",
    "                # Second option: contact not saved\n",
    "                contact = WebDriverWait(driver, 2).until(\n",
    "                    EC.element_to_be_clickable((By.XPATH, '//*[@id=\"app\"]/div/span[2]/div/span/div/div/div/div/div/div/div[2]/div/div/div/div[2]/div/div[2]'))\n",
    "                )\n",
    "\n",
    "            contact.click()\n",
    "            click_cross()\n",
    "\n",
    "        except Exception as e:\n",
    "            print(f\"Error while adding {num}:\\n{e}\")\n",
    "            click_cross()\n",
    "            continue\n",
    "def count_added_participants():\n",
    "    try:\n",
    "        # Wait for the participants container to be present\n",
    "        container = WebDriverWait(driver, 3).until(\n",
    "            EC.presence_of_element_located((By.XPATH, '//*[@id=\"app\"]/div/span[2]/div/span/div/div/div/div/div/div/span[1]'))\n",
    "        )\n",
    "\n",
    "        # Find all direct child divs (each one representing a participant)\n",
    "        participant_divs = container.find_elements(By.XPATH, './div')\n",
    "\n",
    "        print(f\"[✓] Total participants added: {len(participant_divs)-1}\")\n",
    "        return len(participant_divs)-1 # Subtracting 1 for the extra div that is present\n",
    "\n",
    "    except Exception as e:\n",
    "        print(f\"[!] Error counting participants: {e}\")\n",
    "        return 0\n"
   ]
  },
  {
   "cell_type": "code",
   "execution_count": null,
   "metadata": {},
   "outputs": [],
   "source": [
    "add_participants(to_add)\n",
    "total = count_added_participants()\n",
    "if total != len(to_add):\n",
    "    print(f\"[!] Some participants were not added. Expected: {len(to_add)}, Actual: {total}\")\n"
   ]
  },
  {
   "cell_type": "markdown",
   "metadata": {},
   "source": [
    "### Manual step (for now)"
   ]
  },
  {
   "cell_type": "code",
   "execution_count": null,
   "metadata": {},
   "outputs": [],
   "source": [
    "# will automate this later\n",
    "\n",
    "\"\"\"\n",
    "click the tick icon to confirm adding participants\n",
    "then you may need to invite them to the group\n",
    "\"\"\""
   ]
  },
  {
   "cell_type": "markdown",
   "metadata": {},
   "source": [
    "### Updating added.csv"
   ]
  },
  {
   "cell_type": "code",
   "execution_count": null,
   "metadata": {},
   "outputs": [],
   "source": [
    "# Prepare add_csv as before\n",
    "add_csv = [df.set_index(\"Phone No.\").loc[row, \"Name\"] for row in to_add]\n",
    "add_csv = list([(addName, addPhone) for addName, addPhone in zip(add_csv, to_add)])\n",
    "\n",
    "# Append new rows\n",
    "with open(filename, 'a', newline='') as f:\n",
    "    writer = csv.writer(f)\n",
    "    writer.writerows(add_csv)\n",
    "\n",
    "add_csv"
   ]
  }
 ],
 "metadata": {
  "kernelspec": {
   "display_name": ".venv",
   "language": "python",
   "name": "python3"
  },
  "language_info": {
   "codemirror_mode": {
    "name": "ipython",
    "version": 3
   },
   "file_extension": ".py",
   "mimetype": "text/x-python",
   "name": "python",
   "nbconvert_exporter": "python",
   "pygments_lexer": "ipython3",
   "version": "3.13.3"
  }
 },
 "nbformat": 4,
 "nbformat_minor": 2
}
