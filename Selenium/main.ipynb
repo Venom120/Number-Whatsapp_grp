{
 "cells": [
  {
   "cell_type": "markdown",
   "metadata": {},
   "source": [
    "### This code uses whatsapp web to add number"
   ]
  },
  {
   "cell_type": "markdown",
   "metadata": {},
   "source": [
    "### Importing relevant Modules"
   ]
  },
  {
   "cell_type": "code",
   "execution_count": null,
   "metadata": {},
   "outputs": [],
   "source": [
    "from selenium import webdriver\n",
    "from selenium.webdriver.common.by import By\n",
    "from selenium.webdriver.common.keys import Keys\n",
    "from pydrive.auth import GoogleAuth\n",
    "from pydrive.drive import GoogleDrive\n",
    "import time\n",
    "import pandas as pd"
   ]
  },
  {
   "cell_type": "markdown",
   "metadata": {},
   "source": [
    "### Opening whatsapp using options"
   ]
  },
  {
   "cell_type": "code",
   "execution_count": null,
   "metadata": {},
   "outputs": [],
   "source": [
    "\"\"\"!!!!!!!!!!!!!!!! Change this Path acccording to your system !!!!!!!!!!!!!!!!\"\"\"\n",
    "\n",
    "user_data_dir = \"C:/Users/<YOUR_USERNAME>/AppData/Local/Google/Chrome/User Data/Default\"\n",
    "\n",
    "# if already logged in then no need to login again this way\n",
    "# setting up the chrome options\n",
    "options=webdriver.ChromeOptions()\n",
    "options.add_argument(f\"user-data-dir={user_data_dir}\")\n",
    "driver = webdriver.Chrome(options=options)\n",
    "\n",
    "# opening whatsapp web\n",
    "driver.get('https://web.whatsapp.com/')\n",
    "check_list=None\n",
    "# waiting for the page to load\n",
    "while True:\n",
    "    try:\n",
    "        chat_list = driver.find_element(By.ID, 'pane-side')\n",
    "        break\n",
    "    except Exception as e:\n",
    "        time.sleep(2)"
   ]
  },
  {
   "cell_type": "markdown",
   "metadata": {},
   "source": [
    "### Finding Group name"
   ]
  },
  {
   "cell_type": "code",
   "execution_count": null,
   "metadata": {},
   "outputs": [],
   "source": [
    "\"\"\"!!!!!!!!!!!!!!!! Change this Name to your WP group name !!!!!!!!!!!!!!!!\"\"\"\n",
    "gname = \"<GROUP_NAME>\"\n",
    "while True:\n",
    "    try:\n",
    "        search_box = driver.find_element(By.XPATH, '//div[@aria-label=\"Search\"][@role=\"textbox\"]')\n",
    "        search_box.click()  # Click to activate the search box\n",
    "        search_box.send_keys(gname)  # Type the group name\n",
    "        search_box.send_keys(Keys.ENTER)  # Press Enter to search\n",
    "        time.sleep(3)\n",
    "        # Check if the group is opened by looking for the chat header\n",
    "        chat_header = driver.find_element(By.XPATH, f'//*[@id=\"pane-side\"]/div[1]/div/div/div[2]/div/div/div/div[2]/div[1]/div[1]/span/span')\n",
    "        chat_header.click()\n",
    "        break\n",
    "\n",
    "    except Exception as e:\n",
    "        print(\"Group not found, enter exact group name!! - \")\n",
    "        gname=input()\n",
    "        cross=driver.find_element(By.XPATH, '//*[@id=\"side\"]/div[1]/div/div[2]/span/button/span')\n",
    "        cross.click()\n",
    "        time.sleep(1)\n",
    "\n",
    "print(\"Group name validation done!\")\n"
   ]
  },
  {
   "cell_type": "markdown",
   "metadata": {},
   "source": [
    "### Opening Add participant screen"
   ]
  },
  {
   "cell_type": "code",
   "execution_count": null,
   "metadata": {},
   "outputs": [],
   "source": [
    "group_details = driver.find_element(By.XPATH, '//*[@id=\"main\"]/header/div[2]/div[1]/div/span')\n",
    "group_details.click()\n",
    "time.sleep(1.5)\n",
    "add_screen = driver.find_element(By.XPATH, '//*[@id=\"app\"]/div/div[3]/div/div[5]/span/div/span/div/div/div/section/div[7]/div[2]/div[1]/div[2]/div/div')\n",
    "add_screen.click()"
   ]
  },
  {
   "cell_type": "markdown",
   "metadata": {},
   "source": [
    "### Bringing data from google spreadsheets"
   ]
  },
  {
   "cell_type": "code",
   "execution_count": null,
   "metadata": {},
   "outputs": [],
   "source": [
    "# Remember to put your clients_secrets.json in 'pwd'\n",
    "# Authenticate with your Google account\n",
    "gauth = GoogleAuth()\n",
    "gauth.LocalWebserverAuth()  # Follow the authentication steps in your web browser\n",
    "\n",
    "# Create a GoogleDrive instance\n",
    "drive = GoogleDrive(gauth)\n",
    "\n",
    "# Search for the file by name\n",
    "\"\"\"!!!!!!!!!!!!!!!! Change file name to your file name in Gdrive !!!!!!!!!!!!!!!!\"\"\"\n",
    "file_name = \"<GDRIVE_FILE_NAME>\"\n",
    "file_list = drive.ListFile({'q': f\"title = '{file_name}'\"}).GetList()\n",
    "\n",
    "if len(file_list) == 0:\n",
    "    print(f\"File '{file_name}' not found in Google Drive.\")\n",
    "else:\n",
    "    csv_file = file_list[0]\n",
    "\n",
    "# Download the CSV file\n",
    "csv_file.GetContentFile(\"../Data/responses.csv\", mimetype=\"text/csv\")\n",
    "df = pd.read_csv(\"../Data/responses.csv\")"
   ]
  },
  {
   "cell_type": "markdown",
   "metadata": {},
   "source": [
    "### Finding data"
   ]
  },
  {
   "cell_type": "code",
   "execution_count": null,
   "metadata": {},
   "outputs": [],
   "source": [
    "# Correctinng data\n",
    "ph_list = df['Phone No.'].to_list()\n",
    "added_list = pd.read_csv(\"../Data/added.csv\")['Phone No.'].to_list()\n",
    "\n",
    "to_add = []\n",
    "for i in ph_list:\n",
    "    if i not in added_list:\n",
    "        to_add.append(int(i))\n",
    "        \n",
    "to_add"
   ]
  },
  {
   "cell_type": "markdown",
   "metadata": {},
   "source": [
    "### Functions"
   ]
  },
  {
   "cell_type": "code",
   "execution_count": null,
   "metadata": {},
   "outputs": [],
   "source": [
    "def click_cross():\n",
    "    cross = driver.find_element(By.XPATH, '//*[@id=\"app\"]/div/span[2]/div/span/div/div/div/div/div/div/div[1]/div/div[2]/span/button/span')\n",
    "    cross.click()\n",
    "def add_participants(numbers):\n",
    "    for num in numbers:\n",
    "        search_box = driver.find_element(By.XPATH, '//*[@id=\"app\"]/div/span[2]/div/span/div/div/div/div/div/div/div[1]/div/div[2]/div[2]/div/div/p')\n",
    "        search_box.click()\n",
    "        time.sleep(0.5)\n",
    "        search_box.send_keys(str(num))\n",
    "        time.sleep(1)\n",
    "        try:\n",
    "            try:\n",
    "                contact = driver.find_element(By.XPATH, '//*[@id=\"app\"]/div/span[2]/div/span/div/div/div/div/div/div/div[2]/div/div/div/div[1]/div/div[2]/div')\n",
    "            except:\n",
    "                contact = driver.find_element(By.XPATH, '//*[@id=\"app\"]/div/span[2]/div/span/div/div/div/div/div/div/div[2]/div/div/div/div[2]/div/div[2]/div')\n",
    "            contact.click()\n",
    "            click_cross()\n",
    "            time.sleep(1)\n",
    "        except Exception as e:\n",
    "            print(f\"Error while adding {num} - \\n{e}\")\n",
    "            click_cross()\n",
    "            pass"
   ]
  },
  {
   "cell_type": "code",
   "execution_count": null,
   "metadata": {},
   "outputs": [],
   "source": [
    "add_participants(to_add)"
   ]
  },
  {
   "cell_type": "markdown",
   "metadata": {},
   "source": [
    "### Updating added.csv"
   ]
  },
  {
   "cell_type": "code",
   "execution_count": null,
   "metadata": {},
   "outputs": [],
   "source": [
    "add_csv = [df.set_index(\"Phone No.\").loc[row, \"Name\"] for row in to_add]\n",
    "add_csv = list([(addName, addPhone) for addName,addPhone in zip(add_csv,to_add)])\n",
    "import csv\n",
    "with open('../Data/added.csv', 'a',newline=\"\\n\") as f:\n",
    "    # using csv.writer method from CSV package\n",
    "    write = csv.writer(f)\n",
    "    write.writerow(\"\\n\")\n",
    "    write.writerows(add_csv)\n",
    "add_csv"
   ]
  }
 ],
 "metadata": {
  "kernelspec": {
   "display_name": "Python 3",
   "language": "python",
   "name": "python3"
  },
  "language_info": {
   "codemirror_mode": {
    "name": "ipython",
    "version": 3
   },
   "file_extension": ".py",
   "mimetype": "text/x-python",
   "name": "python",
   "nbconvert_exporter": "python",
   "pygments_lexer": "ipython3",
   "version": "3.8.10"
  }
 },
 "nbformat": 4,
 "nbformat_minor": 2
}
