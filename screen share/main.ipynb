{
 "cells": [
  {
   "cell_type": "markdown",
   "metadata": {},
   "source": [
    "### This code uses screen share from mobile"
   ]
  },
  {
   "cell_type": "code",
   "execution_count": null,
   "metadata": {},
   "outputs": [],
   "source": [
    "# remember to put your clients_secrets.json in 'pwd'\n",
    "from pydrive.auth import GoogleAuth\n",
    "from pydrive.drive import GoogleDrive\n",
    "\n",
    "# Authenticate with your Google account\n",
    "gauth = GoogleAuth()\n",
    "gauth.LocalWebserverAuth()  # Follow the authentication steps in your web browser\n",
    "\n",
    "# Create a GoogleDrive instance\n",
    "drive = GoogleDrive(gauth)"
   ]
  },
  {
   "cell_type": "code",
   "execution_count": null,
   "metadata": {},
   "outputs": [],
   "source": [
    "# Search for the file by name\n",
    "file_name= \"Scriveners Club  form Response\"\n",
    "file_list = drive.ListFile({'q': f\"title = '{file_name}'\"}).GetList()\n",
    "\n",
    "if len(file_list) == 0:\n",
    "    print(f\"File '{file_name}' not found in Google Drive.\")\n",
    "else:\n",
    "    csv_file = file_list[0]\n"
   ]
  },
  {
   "cell_type": "code",
   "execution_count": null,
   "metadata": {},
   "outputs": [],
   "source": [
    "# Download the CSV file\n",
    "csv_file.GetContentFile(\"../Data/responses.csv\", mimetype=\"text/csv\")"
   ]
  },
  {
   "cell_type": "code",
   "execution_count": null,
   "metadata": {},
   "outputs": [],
   "source": [
    "import pandas as pd\n",
    "df = pd.read_csv(\"../Data/responses.csv\")\n",
    "df.head()"
   ]
  },
  {
   "cell_type": "markdown",
   "metadata": {},
   "source": [
    "# Correcting the Data"
   ]
  },
  {
   "cell_type": "code",
   "execution_count": null,
   "metadata": {},
   "outputs": [],
   "source": [
    "# Correctinng data\n",
    "ph_list = df['Phone No.'].to_list()\n",
    "added_list = pd.read_csv(\"../Data/added.csv\")['Phone No.'].to_list()\n",
    "to_add = []\n",
    "for i in range(len(ph_list)):\n",
    "    if ph_list[i] not in added_list:\n",
    "        to_add.append(ph_list[i])\n",
    "to_add"
   ]
  },
  {
   "cell_type": "markdown",
   "metadata": {},
   "source": [
    "# Using Pyautogui"
   ]
  },
  {
   "cell_type": "code",
   "execution_count": null,
   "metadata": {},
   "outputs": [],
   "source": [
    "# import relevant modules\n",
    "import pyautogui as gui\n",
    "import time\n",
    "gui.FAILSAFE=True"
   ]
  },
  {
   "cell_type": "code",
   "execution_count": null,
   "metadata": {},
   "outputs": [],
   "source": [
    "def position():\n",
    "    time.sleep(5)\n",
    "    print(gui.position())\n",
    "def click(x,y):\n",
    "    time.sleep(1.5)\n",
    "    gui.moveTo(x,y)\n",
    "    gui.click(x,y,button=\"left\")\n",
    "def add_participants(to):\n",
    "    for num in to:\n",
    "        time.sleep(1)\n",
    "        gui.write(f\"{num}\", interval=0.25)\n",
    "        time.sleep(5)\n",
    "        if num==to[0]:\n",
    "            click(760, 186)\n",
    "        else:\n",
    "            click(760, 315)"
   ]
  },
  {
   "cell_type": "markdown",
   "metadata": {},
   "source": [
    "### Open add aparticipants screen in your mobile using your laptop via screen mirroring"
   ]
  },
  {
   "cell_type": "code",
   "execution_count": null,
   "metadata": {},
   "outputs": [],
   "source": [
    "# Open add aparticipants screen in your mobile using your laptop via screen mirroring\n",
    "to = to_add\n",
    "time.sleep(5)\n",
    "\n",
    "\n",
    "click(1168, 102)\n",
    "add_participants(to)\n",
    "gui.moveTo(1147, 621)"
   ]
  },
  {
   "cell_type": "code",
   "execution_count": null,
   "metadata": {},
   "outputs": [],
   "source": [
    "position()"
   ]
  },
  {
   "cell_type": "code",
   "execution_count": null,
   "metadata": {},
   "outputs": [],
   "source": [
    "time.sleep(3)\n",
    "gui.moveTo(760, 186)"
   ]
  },
  {
   "cell_type": "markdown",
   "metadata": {},
   "source": [
    "# updating added.csv"
   ]
  },
  {
   "cell_type": "code",
   "execution_count": null,
   "metadata": {},
   "outputs": [],
   "source": [
    "to_add"
   ]
  },
  {
   "cell_type": "code",
   "execution_count": null,
   "metadata": {},
   "outputs": [],
   "source": [
    "add_csv = [df.set_index(\"Phone No.\").loc[f\"{row}\", \"Name\"] for row in to_add]\n",
    "add_csv = list([(addName, addPhone,0) for addName,addPhone in zip(add_csv,to_add)])\n",
    "add_csv"
   ]
  },
  {
   "cell_type": "code",
   "execution_count": null,
   "metadata": {},
   "outputs": [],
   "source": [
    "import csv\n",
    "with open('../Data/added.csv', 'a',newline='\\n') as f:\n",
    "\t\n",
    "\t# using csv.writer method from CSV package\n",
    "\tw = csv.writer(f)\n",
    "\tw.writerows(add_csv)"
   ]
  }
 ],
 "metadata": {
  "kernelspec": {
   "display_name": "Python 3",
   "language": "python",
   "name": "python3"
  },
  "language_info": {
   "codemirror_mode": {
    "name": "ipython",
    "version": 3
   },
   "file_extension": ".py",
   "mimetype": "text/x-python",
   "name": "python",
   "nbconvert_exporter": "python",
   "pygments_lexer": "ipython3",
   "version": "3.8.10"
  },
  "orig_nbformat": 4
 },
 "nbformat": 4,
 "nbformat_minor": 2
}
